{
 "cells": [
  {
   "cell_type": "code",
   "execution_count": 1,
   "id": "d6f12e03",
   "metadata": {},
   "outputs": [],
   "source": [
    "import requests\n",
    "from datetime import datetime\n",
    "import pandas as pd"
   ]
  },
  {
   "cell_type": "code",
   "execution_count": null,
   "id": "fef53a94",
   "metadata": {},
   "outputs": [
    {
     "name": "stdout",
     "output_type": "stream",
     "text": [
      "Successful connection. Code = {200}\n"
     ]
    }
   ],
   "source": [
    "url='https://api.coingecko.com/api/v3/coins/markets'\n",
    "parameter={\n",
    "    'vs_currency':'usd',\n",
    "    'order':'market_cap_desc',\n",
    "    'per_page':250,\n",
    "    'page':1\n",
    "}\n",
    "response=requests.get(url, params=parameter)\n",
    "\n",
    "if response.status_code==200:\n",
    "    print(\"Successful connection. Code =\", {response.status_code})\n",
    "else:\n",
    "    print(\"Error encountered during connection. Code =\", {response.status_code})\n"
   ]
  },
  {
   "cell_type": "code",
   "execution_count": null,
   "id": "c9ba73d4",
   "metadata": {},
   "outputs": [],
   "source": [
    "data=response.json()\n",
    "data"
   ]
  }
 ],
 "metadata": {
  "kernelspec": {
   "display_name": "crypto-etl-evnv",
   "language": "python",
   "name": "python3"
  },
  "language_info": {
   "codemirror_mode": {
    "name": "ipython",
    "version": 3
   },
   "file_extension": ".py",
   "mimetype": "text/x-python",
   "name": "python",
   "nbconvert_exporter": "python",
   "pygments_lexer": "ipython3",
   "version": "3.12.3"
  }
 },
 "nbformat": 4,
 "nbformat_minor": 5
}
